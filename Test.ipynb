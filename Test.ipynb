{
  "nbformat": 4,
  "nbformat_minor": 0,
  "metadata": {
    "colab": {
      "name": "Test",
      "provenance": [],
      "collapsed_sections": [],
      "include_colab_link": true
    },
    "kernelspec": {
      "name": "python3",
      "display_name": "Python 3"
    }
  },
  "cells": [
    {
      "cell_type": "markdown",
      "metadata": {
        "id": "view-in-github",
        "colab_type": "text"
      },
      "source": [
        "<a href=\"https://colab.research.google.com/github/Struth-Rourke/packagedata-struth-rourke/blob/master/Test.ipynb\" target=\"_parent\"><img src=\"https://colab.research.google.com/assets/colab-badge.svg\" alt=\"Open In Colab\"/></a>"
      ]
    },
    {
      "cell_type": "code",
      "metadata": {
        "id": "fcq2qxL6go-n",
        "colab_type": "code",
        "colab": {}
      },
      "source": [
        "import pandas as pd\n",
        "from sklearn.model_selection import train_test_split\n",
        "from newpandaspackage.new_mod import "
      ],
      "execution_count": 0,
      "outputs": []
    },
    {
      "cell_type": "code",
      "metadata": {
        "id": "AOkRH0Bfgv2H",
        "colab_type": "code",
        "outputId": "ee5d9605-2427-4840-a8d8-49be24c17d63",
        "colab": {
          "base_uri": "https://localhost:8080/",
          "height": 221
        }
      },
      "source": [
        "# train_val_test Function\n",
        "def train_val_test_func(df):\n",
        "    ''' Takes in a dataframe and creates a training, validation, and test\n",
        "    df from the existing and returns the three types'''\n",
        "\n",
        "    # Creating a copy\n",
        "    df = df.copy()\n",
        "        \n",
        "    # Creating a train/val/test split from df\n",
        "    ## train and test split\n",
        "    train, test = train_test_split(df, train_size = .9, test_size = .1, random_state = 42)\n",
        "\n",
        "    ## train and val split\n",
        "    train, val = train_test_split(train, train_size = .8, test_size = .2, random_state = 42)\n",
        "\n",
        "    # Printing the shapes for each\n",
        "    print(train.shape, val.shape, test.shape)\n",
        "\n",
        "    # Returning the df's\n",
        "    return train, val, test\n",
        "\n",
        "## Function 1 (train_val_test_func)\n",
        "# Mock df\n",
        "dfx = pd.DataFrame({'a': [1,2,3,4,5,6,7,8,9,10], 'b': [1,2,3,4,5,6,7,8,9,10]})\n",
        "\n",
        "# Calling function\n",
        "train_val_test_func(dfx)"
      ],
      "execution_count": 0,
      "outputs": [
        {
          "output_type": "stream",
          "text": [
            "(7, 2) (2, 2) (1, 2)\n"
          ],
          "name": "stdout"
        },
        {
          "output_type": "execute_result",
          "data": {
            "text/plain": [
              "(    a   b\n",
              " 9  10  10\n",
              " 1   2   2\n",
              " 6   7   7\n",
              " 0   1   1\n",
              " 2   3   3\n",
              " 7   8   8\n",
              " 4   5   5,    a  b\n",
              " 3  4  4\n",
              " 5  6  6,    a  b\n",
              " 8  9  9)"
            ]
          },
          "metadata": {
            "tags": []
          },
          "execution_count": 4
        }
      ]
    },
    {
      "cell_type": "code",
      "metadata": {
        "id": "el0Z8fRxgztq",
        "colab_type": "code",
        "outputId": "531745e4-0a1a-4ac4-a99f-ee4d47822b3d",
        "colab": {
          "base_uri": "https://localhost:8080/",
          "height": 85
        }
      },
      "source": [
        "# date_splitting Function\n",
        "def date_splitting(Y):\n",
        "    ''' Takes a column with dates and creates three new columns with different\n",
        "    date types'''\n",
        "\n",
        "    # Creating a column copy\n",
        "    Y = Y.copy()\n",
        "        \n",
        "    # Inferring pandas datetime format\n",
        "    Y['Date Column'] = pd.to_datetime(Y['a'], infer_datetime_format = True)\n",
        "\n",
        "    # Creating new columns based on the date length (Y, M, D)\n",
        "    Y['Year'] = Y['Date Column'].dt.to_period('Y')\n",
        "    Y['Year_Month'] = Y['Date Column'].dt.to_period('M')\n",
        "    Y['Year_Month_Day'] = Y['Date Column'].dt.to_period('D')\n",
        "\n",
        "    return print(Y)\n",
        "\n",
        "## Function 2 (date_splitting)\n",
        "# Mock df\n",
        "dfy = pd.DataFrame({'a': ['01/01/2019', '01/02/2019', '01/03/2019']})\n",
        "\n",
        "# Calling function\n",
        "date_splitting(dfy)"
      ],
      "execution_count": 0,
      "outputs": [
        {
          "output_type": "stream",
          "text": [
            "            a Date Column  Year Year_Month Year_Month_Day\n",
            "0  01/01/2019  2019-01-01  2019    2019-01     2019-01-01\n",
            "1  01/02/2019  2019-01-02  2019    2019-01     2019-01-02\n",
            "2  01/03/2019  2019-01-03  2019    2019-01     2019-01-03\n"
          ],
          "name": "stdout"
        }
      ]
    },
    {
      "cell_type": "code",
      "metadata": {
        "id": "qRe_JG3eg4cX",
        "colab_type": "code",
        "outputId": "1c539643-0d81-49eb-9042-9c944cd0ae29",
        "colab": {
          "base_uri": "https://localhost:8080/",
          "height": 34
        }
      },
      "source": [
        "# add_state_names Function\n",
        "def add_state_names(lst):\n",
        "    ''' Converts a list with a column of state abbreviations,\n",
        "    adding a corresponding column of state names.\n",
        "\n",
        "    Params:\n",
        "        my_df a pandas.DataFrame with a column called \"abbrev\".\n",
        "\n",
        "        Example:\n",
        "        add_state_names(DataFrame({'abbrev': ['CA', 'CO', 'CT', 'DC', 'TX']}))\n",
        "\n",
        "    Returns: a pandas.DataFrame with the original col as well as a name column\n",
        "    '''\n",
        "\n",
        "    # State Abbreviation -> Full name and Vice Versa\n",
        "    # FL -> Florida\n",
        "\n",
        "    # Creating a copy\n",
        "    lst_copy = lst.copy()\n",
        "\n",
        "    # need a list of dict with the abbrev/name mappings\n",
        "    names_map = {'CA': 'Cali', 'CO': 'Colo', 'CT': 'Connecticut', \n",
        "                 'DC': 'District of Columbia', 'NY': 'New York', \n",
        "                 'NJ': 'New Jersey', 'VT': 'Vermont', 'TX': 'Texas', \n",
        "                 'RI': 'Rhode Island'}\n",
        "        \n",
        "    # create a new column which maps the existing column using our names map\n",
        "    # breakpoint() ## Allows us to enter the script and adjust the things above it in the code\n",
        "    # type(type(new_frame['abbrev'])) -> Series\n",
        "    # Can use 'Dir(new_frame['abbrev'])' to see what functions/methods you can call on the particle datatype you're using\n",
        "\n",
        "    lst_copy = map(lambda x: names_map[x], lst_copy)\n",
        "\n",
        "    return list(lst_copy)\n",
        "\n",
        "## Function 3 (add_state_names)\n",
        "# Mock list\n",
        "dfz = ['CA', 'CO', 'CT', 'DC', 'TX']\n",
        "\n",
        "# Calling and assigning function\n",
        "dfz2 = add_state_names(dfz)\n",
        "print(dfz2)"
      ],
      "execution_count": 0,
      "outputs": [
        {
          "output_type": "stream",
          "text": [
            "['Cali', 'Colo', 'Connecticut', 'District of Columbia', 'Texas']\n"
          ],
          "name": "stdout"
        }
      ]
    },
    {
      "cell_type": "code",
      "metadata": {
        "id": "EpnbSFAsg7kx",
        "colab_type": "code",
        "outputId": "4fa9e227-3a24-4b05-d145-ac76402c3cae",
        "colab": {
          "base_uri": "https://localhost:8080/",
          "height": 119
        }
      },
      "source": [
        "# list_series_df_col Function\n",
        "def list_series_df_col(lst, col_header):\n",
        "    ''' Takes a list, converts it to a series and then adds it as a column\n",
        "    inside a DataFrame.\n",
        "    '''\n",
        "\n",
        "    # taking in the list and converting it to a Series;\n",
        "    # assigning it to variable x\n",
        "    x = pd.Series(lst)\n",
        "\n",
        "    # Creating a DataFrame\n",
        "    df = pd.DataFrame(x, columns = col_header)\n",
        "\n",
        "    return df\n",
        "\n",
        "## Function 4 (list_series_df_col)\n",
        "# Mock df\n",
        "dfq = [1, 2, 3, 4, 5]\n",
        "# Mock header\n",
        "header = ['Numbers']\n",
        "\n",
        "# Calling and printing the Function\n",
        "print(list_series_df_col(dfq, header))"
      ],
      "execution_count": 0,
      "outputs": [
        {
          "output_type": "stream",
          "text": [
            "   Numbers\n",
            "0        1\n",
            "1        2\n",
            "2        3\n",
            "3        4\n",
            "4        5\n"
          ],
          "name": "stdout"
        }
      ]
    },
    {
      "cell_type": "code",
      "metadata": {
        "id": "22wOs68Sqi_M",
        "colab_type": "code",
        "colab": {}
      },
      "source": [
        "from pdb import set_trace as st"
      ],
      "execution_count": 0,
      "outputs": []
    },
    {
      "cell_type": "code",
      "metadata": {
        "id": "poUtMBkng-6_",
        "colab_type": "code",
        "outputId": "a2de511d-372b-49b7-e95d-1eb83b9dd526",
        "colab": {
          "base_uri": "https://localhost:8080/",
          "height": 153
        }
      },
      "source": [
        "class StateWrangle():\n",
        "    ''' \n",
        "    Params:\n",
        "    '''\n",
        "    def __init__(self, lst1, lst2, col_headers):\n",
        "        self.lst1 = lst1\n",
        "        self.lst2 = lst2\n",
        "        self.col_headers = col_headers\n",
        "\n",
        "    def add_state_names(self):\n",
        "      self.lst3 = add_state_names(self.lst1)\n",
        "      # st()\n",
        "      return self.lst3\n",
        "\n",
        "    def list_series_df_col(self):\n",
        "      dictionary = dict(zip(self.col_headers, [self.lst1, self.lst2, self.lst3]))\n",
        "      # st() -> Breakpoint\n",
        "      df = pd.DataFrame(dictionary)\n",
        "      return df\n",
        "        \n",
        "\n",
        "lst1 = ['NY', 'NJ', 'CT', 'RI', 'VT']\n",
        "lst2 = [1, 2, 3, 4, 5]\n",
        "headers = ['Ab', 'Number', 'Name']\n",
        "    \n",
        "x = StateWrangle(lst1, lst2, headers)\n",
        "print(x.lst1)\n",
        "print(x.add_state_names())\n",
        "print(x.list_series_df_col())"
      ],
      "execution_count": 0,
      "outputs": [
        {
          "output_type": "stream",
          "text": [
            "['NY', 'NJ', 'CT', 'RI', 'VT']\n",
            "['New York', 'New Jersey', 'Connecticut', 'Rhode Island', 'Vermont']\n",
            "   Ab  Number          Name\n",
            "0  NY       1      New York\n",
            "1  NJ       2    New Jersey\n",
            "2  CT       3   Connecticut\n",
            "3  RI       4  Rhode Island\n",
            "4  VT       5       Vermont\n"
          ],
          "name": "stdout"
        }
      ]
    }
  ]
}